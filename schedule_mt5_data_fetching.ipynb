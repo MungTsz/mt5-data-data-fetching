{
 "cells": [
  {
   "cell_type": "code",
   "execution_count": null,
   "metadata": {},
   "outputs": [],
   "source": [
    "config_file_name_str = input(\"What is the name of the config file?\")\n",
    "if config_file_name_str == \"\":\n",
    "    config_file_name_str = \"schedule_config.yaml\""
   ]
  },
  {
   "cell_type": "code",
   "execution_count": null,
   "metadata": {},
   "outputs": [],
   "source": [
    "import pytz\n",
    "from MT5_data_fetching import data_fetching_job\n",
    "from apscheduler.schedulers.blocking import BlockingScheduler\n",
    "\n",
    "mt5_timezone = pytz.timezone(\"Israel\")\n",
    "\n",
    "scheduler = BlockingScheduler()\n",
    "scheduler.add_job(\n",
    "    data_fetching_job,\n",
    "    \"cron\",\n",
    "    hour=\"0,4,8,12,16,20\",\n",
    "    minute=0,\n",
    "    second=0,\n",
    "    timezone=mt5_timezone,\n",
    "    args=[config_file_name_str],\n",
    ")\n",
    "scheduler.start()"
   ]
  }
 ],
 "metadata": {
  "language_info": {
   "name": "python"
  }
 },
 "nbformat": 4,
 "nbformat_minor": 2
}
