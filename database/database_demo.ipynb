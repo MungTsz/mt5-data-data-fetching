{
 "cells": [
  {
   "cell_type": "markdown",
   "metadata": {},
   "source": [
    "This is the demo of How to use the SQLalchemy to connect to the database and do the query."
   ]
  },
  {
   "cell_type": "markdown",
   "metadata": {},
   "source": [
    "First of all, you need to install the SQLalchemy package.\n",
    "\n",
    "```bash\n",
    "pip install sqlalchemy\n",
    "```\n",
    "\n",
    "Then, you need to install the database driver. For example, if you want to connect to the MySQL database, you need to install the MySQL driver.\n",
    "\n",
    "```bash\n",
    "pip install pymysql\n",
    "```"
   ]
  },
  {
   "cell_type": "markdown",
   "metadata": {},
   "source": [
    "# 1. Getting the connection to the database"
   ]
  },
  {
   "cell_type": "markdown",
   "metadata": {},
   "source": [
    "For the testing purpose, we will use the demo database called 'testing-demo'. There is a demo table called 'users' in the database. The table has the following columns:\n",
    "\n",
    "- id: the primary key of the table\n",
    "- first_name: the first name of the user\n",
    "- last_name: the last name of the user\n",
    "- age: the age of the user\n",
    "- email: the email of the user\n",
    "- gender : the gender of the user\n",
    "- ip_address: the ip address of the user"
   ]
  },
  {
   "cell_type": "code",
   "execution_count": null,
   "metadata": {},
   "outputs": [],
   "source": [
    "# Import the function from database.py which will return the engine of the database\n",
    "from database import get_database_engine\n",
    "\n",
    "# For the get_database_engine function to work, you need to login the data-storage sso in the aws cli.\n",
    "# You can do this by running the following command in the terminal:\n",
    "# aws sso configure\n",
    "\n",
    "engine_result = get_database_engine(database_name=\"testing-demo\")\n",
    "\n",
    "engine = engine_result.ok_value"
   ]
  },
  {
   "cell_type": "markdown",
   "metadata": {},
   "source": [
    "# 2. Query the database"
   ]
  },
  {
   "cell_type": "markdown",
   "metadata": {},
   "source": [
    "## 2.1 sqlalchemy support the sql query directly."
   ]
  },
  {
   "cell_type": "markdown",
   "metadata": {},
   "source": [
    "For sqlalchemy, we must connect the database in term of context. So, we need to use the `with` statement to connect to the database.\n",
    "\n",
    "For utilizing the power of ORM, we will using the session class in sqlalchemy. The session class is the interface to the database. We can use the session class to query the database."
   ]
  },
  {
   "cell_type": "code",
   "execution_count": null,
   "metadata": {},
   "outputs": [],
   "source": [
    "from sqlalchemy.orm import Session\n",
    "\n",
    "with Session(engine) as session:\n",
    "    result = session.execute(\"SELECT * FROM users\")\n",
    "    print(result.fetchall())"
   ]
  },
  {
   "cell_type": "code",
   "execution_count": null,
   "metadata": {},
   "outputs": [],
   "source": [
    "with Session(engine) as session:\n",
    "    result = session.execute(\"SELECT * FROM users\")\n",
    "    print(result.fetchone())"
   ]
  },
  {
   "cell_type": "code",
   "execution_count": null,
   "metadata": {},
   "outputs": [],
   "source": [
    "with Session(engine) as session:\n",
    "    result = session.execute(\n",
    "        \"SELECT * FROM users where gender like 'male' and age = 20\"\n",
    "    )\n",
    "    print(result.first())"
   ]
  },
  {
   "cell_type": "markdown",
   "metadata": {},
   "source": [
    "## 2.2 Create a table object"
   ]
  },
  {
   "cell_type": "markdown",
   "metadata": {},
   "source": [
    "Create a table object for sqlalchemy can help us to avoid using the sql query directly. We can use the table object to query the database."
   ]
  },
  {
   "cell_type": "code",
   "execution_count": null,
   "metadata": {},
   "outputs": [],
   "source": [
    "from sqlalchemy import Table, Column, Integer, String, MetaData\n",
    "\n",
    "metadata_obj = MetaData()\n",
    "\n",
    "user_table = Table(\n",
    "    \"users\",\n",
    "    metadata_obj,\n",
    "    Column(\"id\", Integer, primary_key=True),\n",
    "    Column(\"first_name\", String),\n",
    "    Column(\"last_name\", String),\n",
    "    Column(\"age\", Integer),\n",
    "    Column(\"email\", String),\n",
    "    Column(\"gender\", String),\n",
    "    Column(\"ip_address\", String),\n",
    ")"
   ]
  },
  {
   "cell_type": "code",
   "execution_count": null,
   "metadata": {},
   "outputs": [],
   "source": [
    "with Session(engine) as session:\n",
    "    result = session.execute(user_table.select())\n",
    "    print(result.fetchall())"
   ]
  },
  {
   "cell_type": "markdown",
   "metadata": {},
   "source": [
    "With the tool provided by sqlalchemy, we can first create a statement as a object. Then, we can use the object to query the database. "
   ]
  },
  {
   "cell_type": "code",
   "execution_count": null,
   "metadata": {},
   "outputs": [],
   "source": [
    "from sqlalchemy import select\n",
    "\n",
    "statement = (\n",
    "    select(user_table)\n",
    "    .where(user_table.c.age == 20)\n",
    "    .order_by(user_table.c.first_name.desc())\n",
    ")\n",
    "\n",
    "with Session(engine) as session:\n",
    "    result = session.execute(statement).all()\n",
    "    print(result)"
   ]
  },
  {
   "cell_type": "markdown",
   "metadata": {},
   "source": [
    "We can also have some aggregate functions with GROUP BY / HAVING."
   ]
  },
  {
   "cell_type": "code",
   "execution_count": null,
   "metadata": {},
   "outputs": [],
   "source": [
    "from sqlalchemy import func\n",
    "\n",
    "statement = select(\n",
    "    user_table.c.gender, func.count(user_table.c.id).label(\"count\")\n",
    ").group_by(user_table.c.gender)\n",
    "\n",
    "with Session(engine) as session:\n",
    "    result = session.execute(statement).fetchall()\n",
    "\n",
    "    # Iterate and print results\n",
    "    for gender, count in result:\n",
    "        print(f\"Gender: {gender}, Count: {count}\")"
   ]
  },
  {
   "cell_type": "markdown",
   "metadata": {},
   "source": [
    "# 3. Insert the data into the database"
   ]
  },
  {
   "cell_type": "code",
   "execution_count": null,
   "metadata": {},
   "outputs": [],
   "source": [
    "from sqlalchemy import insert\n",
    "\n",
    "user_info = {\n",
    "    \"id\": 1001,\n",
    "    \"first_name\": \"Ken\",\n",
    "    \"last_name\": \"Chan\",\n",
    "    \"age\": 23,\n",
    "    \"email\": \"abc@gmail.com\",\n",
    "    \"gender\": \"Male\",\n",
    "    \"ip_address\": \"192.168.1.1\",\n",
    "}\n",
    "\n",
    "with Session(engine) as session:\n",
    "    session.execute(insert(user_table), [user_info])\n",
    "    session.commit()"
   ]
  }
 ],
 "metadata": {
  "kernelspec": {
   "display_name": "data_project",
   "language": "python",
   "name": "python3"
  },
  "language_info": {
   "codemirror_mode": {
    "name": "ipython",
    "version": 3
   },
   "file_extension": ".py",
   "mimetype": "text/x-python",
   "name": "python",
   "nbconvert_exporter": "python",
   "pygments_lexer": "ipython3"
  }
 },
 "nbformat": 4,
 "nbformat_minor": 2
}
